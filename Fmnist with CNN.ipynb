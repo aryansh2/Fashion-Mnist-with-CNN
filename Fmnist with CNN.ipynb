{
 "cells": [
  {
   "cell_type": "code",
   "execution_count": 1,
   "id": "invisible-spyware",
   "metadata": {},
   "outputs": [],
   "source": [
    "import tensorflow as tf\n",
    "from tensorflow import keras\n",
    "import numpy as np"
   ]
  },
  {
   "cell_type": "code",
   "execution_count": 2,
   "id": "realistic-cement",
   "metadata": {},
   "outputs": [
    {
     "name": "stdout",
     "output_type": "stream",
     "text": [
      "2.4.0-rc0\n"
     ]
    }
   ],
   "source": [
    "print(tf.__version__)"
   ]
  },
  {
   "cell_type": "code",
   "execution_count": 3,
   "id": "logical-running",
   "metadata": {},
   "outputs": [],
   "source": [
    "fashion_mnist=keras.datasets.fashion_mnist"
   ]
  },
  {
   "cell_type": "code",
   "execution_count": 4,
   "id": "monetary-draft",
   "metadata": {},
   "outputs": [
    {
     "name": "stdout",
     "output_type": "stream",
     "text": [
      "Downloading data from https://storage.googleapis.com/tensorflow/tf-keras-datasets/train-labels-idx1-ubyte.gz\n",
      "32768/29515 [=================================] - 0s 3us/step\n",
      "Downloading data from https://storage.googleapis.com/tensorflow/tf-keras-datasets/train-images-idx3-ubyte.gz\n",
      "26427392/26421880 [==============================] - 9s 0us/step\n",
      "Downloading data from https://storage.googleapis.com/tensorflow/tf-keras-datasets/t10k-labels-idx1-ubyte.gz\n",
      "8192/5148 [===============================================] - 0s 1us/step\n",
      "Downloading data from https://storage.googleapis.com/tensorflow/tf-keras-datasets/t10k-images-idx3-ubyte.gz\n",
      "4423680/4422102 [==============================] - 2s 0us/step\n"
     ]
    }
   ],
   "source": [
    "(train_images,train_labels),(test_images,test_labels)=fashion_mnist.load_data()"
   ]
  },
  {
   "cell_type": "code",
   "execution_count": 5,
   "id": "fleet-visitor",
   "metadata": {},
   "outputs": [],
   "source": [
    "train_images=train_images/255.0\n",
    "test_images=test_images/255.0"
   ]
  },
  {
   "cell_type": "code",
   "execution_count": 10,
   "id": "palestinian-lindsay",
   "metadata": {},
   "outputs": [
    {
     "data": {
      "text/plain": [
       "(28, 28, 1)"
      ]
     },
     "execution_count": 10,
     "metadata": {},
     "output_type": "execute_result"
    }
   ],
   "source": [
    "train_images[0].shape"
   ]
  },
  {
   "cell_type": "code",
   "execution_count": 9,
   "id": "compliant-paint",
   "metadata": {},
   "outputs": [],
   "source": [
    "train_images=train_images.reshape(len(train_images),28,28,1)\n",
    "test_images=test_images.reshape(len(test_images),28,28,1)"
   ]
  },
  {
   "cell_type": "code",
   "execution_count": 11,
   "id": "legal-clause",
   "metadata": {},
   "outputs": [],
   "source": [
    "from tensorflow.keras.models import Sequential\n",
    "from tensorflow.keras.layers import Dense, Flatten, Dropout, Activation, Conv2D, MaxPooling2D"
   ]
  },
  {
   "cell_type": "code",
   "execution_count": 12,
   "id": "structural-stuff",
   "metadata": {},
   "outputs": [],
   "source": [
    "model=Sequential()\n",
    "model.add(Conv2D(64,(3,3),activation='relu',input_shape=(28,28,1)))\n",
    "model.add(Conv2D(64,(3,3),activation='relu'))\n",
    "model.add(Flatten())\n",
    "model.add(Dense(64,activation='relu'))\n",
    "model.add(Dense(10,activation='softmax'))\n",
    "model.compile(optimizer='adam',loss='sparse_categorical_crossentropy',metrics=['accuracy'])\n",
    "\n"
   ]
  },
  {
   "cell_type": "code",
   "execution_count": 14,
   "id": "tested-appearance",
   "metadata": {},
   "outputs": [
    {
     "name": "stdout",
     "output_type": "stream",
     "text": [
      "Epoch 1/10\n",
      "1500/1500 [==============================] - 28s 19ms/step - loss: 0.5666 - accuracy: 0.8003 - val_loss: 0.3150 - val_accuracy: 0.8867\n",
      "Epoch 2/10\n",
      "1500/1500 [==============================] - 28s 19ms/step - loss: 0.2576 - accuracy: 0.9059 - val_loss: 0.2570 - val_accuracy: 0.9058\n",
      "Epoch 3/10\n",
      "1500/1500 [==============================] - 28s 18ms/step - loss: 0.1808 - accuracy: 0.9325 - val_loss: 0.2491 - val_accuracy: 0.9095\n",
      "Epoch 4/10\n",
      "1500/1500 [==============================] - 28s 19ms/step - loss: 0.1288 - accuracy: 0.9522 - val_loss: 0.2848 - val_accuracy: 0.9068\n",
      "Epoch 5/10\n",
      "1500/1500 [==============================] - 28s 18ms/step - loss: 0.0889 - accuracy: 0.9680 - val_loss: 0.3208 - val_accuracy: 0.9093\n",
      "Epoch 6/10\n",
      "1500/1500 [==============================] - 28s 19ms/step - loss: 0.0625 - accuracy: 0.9782 - val_loss: 0.3515 - val_accuracy: 0.9045\n",
      "Epoch 7/10\n",
      "1500/1500 [==============================] - 28s 19ms/step - loss: 0.0426 - accuracy: 0.9851 - val_loss: 0.4103 - val_accuracy: 0.9099\n",
      "Epoch 8/10\n",
      "1500/1500 [==============================] - 28s 19ms/step - loss: 0.0309 - accuracy: 0.9891 - val_loss: 0.4568 - val_accuracy: 0.9112\n",
      "Epoch 9/10\n",
      "1500/1500 [==============================] - 28s 19ms/step - loss: 0.0228 - accuracy: 0.9920 - val_loss: 0.5092 - val_accuracy: 0.9071\n",
      "Epoch 10/10\n",
      "1500/1500 [==============================] - 28s 19ms/step - loss: 0.0183 - accuracy: 0.9938 - val_loss: 0.5378 - val_accuracy: 0.9131\n"
     ]
    },
    {
     "data": {
      "text/plain": [
       "<tensorflow.python.keras.callbacks.History at 0x16c792e80>"
      ]
     },
     "execution_count": 14,
     "metadata": {},
     "output_type": "execute_result"
    }
   ],
   "source": [
    "model.fit(train_images,train_labels,epochs=10,validation_split=0.2)"
   ]
  },
  {
   "cell_type": "code",
   "execution_count": null,
   "id": "sharp-polymer",
   "metadata": {},
   "outputs": [],
   "source": []
  }
 ],
 "metadata": {
  "kernelspec": {
   "display_name": "Python 3",
   "language": "python",
   "name": "python3"
  },
  "language_info": {
   "codemirror_mode": {
    "name": "ipython",
    "version": 3
   },
   "file_extension": ".py",
   "mimetype": "text/x-python",
   "name": "python",
   "nbconvert_exporter": "python",
   "pygments_lexer": "ipython3",
   "version": "3.8.8"
  }
 },
 "nbformat": 4,
 "nbformat_minor": 5
}
